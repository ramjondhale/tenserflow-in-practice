{
  "nbformat": 4,
  "nbformat_minor": 0,
  "metadata": {
    "accelerator": "GPU",
    "colab": {
      "name": "Word Embedding on sarcasm dataset(Course3).ipynb",
      "provenance": [],
      "collapsed_sections": [],
      "toc_visible": true,
      "include_colab_link": true
    },
    "kernelspec": {
      "display_name": "Python 3",
      "name": "python3"
    }
  },
  "cells": [
    {
      "cell_type": "markdown",
      "metadata": {
        "id": "view-in-github",
        "colab_type": "text"
      },
      "source": [
        "<a href=\"https://colab.research.google.com/github/ramjondhale/tenserflow-in-practice/blob/master/Word_Embedding_on_sarcasm_dataset(Course3).ipynb\" target=\"_parent\"><img src=\"https://colab.research.google.com/assets/colab-badge.svg\" alt=\"Open In Colab\"/></a>"
      ]
    },
    {
      "cell_type": "code",
      "metadata": {
        "id": "zX4Kg8DUTKWO"
      },
      "source": [
        "#@title Licensed under the Apache License, Version 2.0 (the \"License\");\n",
        "# you may not use this file except in compliance with the License.\n",
        "# You may obtain a copy of the License at\n",
        "#\n",
        "# https://www.apache.org/licenses/LICENSE-2.0\n",
        "#\n",
        "# Unless required by applicable law or agreed to in writing, software\n",
        "# distributed under the License is distributed on an \"AS IS\" BASIS,\n",
        "# WITHOUT WARRANTIES OR CONDITIONS OF ANY KIND, either express or implied.\n",
        "# See the License for the specific language governing permissions and\n",
        "# limitations under the License."
      ],
      "execution_count": null,
      "outputs": []
    },
    {
      "cell_type": "markdown",
      "metadata": {
        "id": "view-in-github"
      },
      "source": [
        "<a href=\"https://colab.research.google.com/github/lmoroney/dlaicourse/blob/master/TensorFlow%20In%20Practice/Course%203%20-%20NLP/Course%203%20-%20Week%202%20-%20Lesson%202.ipynb\" target=\"_parent\"><img src=\"https://colab.research.google.com/assets/colab-badge.svg\" alt=\"Open In Colab\"/></a>"
      ]
    },
    {
      "cell_type": "code",
      "metadata": {
        "id": "4gs9htvM7n_x"
      },
      "source": [
        "# Run this to ensure TensorFlow 2.x is used\n",
        "try:\n",
        "  # %tensorflow_version only exists in Colab.\n",
        "  %tensorflow_version 2.x\n",
        "except Exception:\n",
        "  pass"
      ],
      "execution_count": 1,
      "outputs": []
    },
    {
      "cell_type": "code",
      "metadata": {
        "id": "XYYDvoskkE61"
      },
      "source": [
        "import json\n",
        "import tensorflow as tf\n",
        "\n",
        "from tensorflow.keras.preprocessing.text import Tokenizer\n",
        "from tensorflow.keras.preprocessing.sequence import pad_sequences"
      ],
      "execution_count": 2,
      "outputs": []
    },
    {
      "cell_type": "code",
      "metadata": {
        "id": "0eJSTTYnkJQd"
      },
      "source": [
        "vocab_size = 10000\n",
        "embedding_dim = 16\n",
        "max_length = 100\n",
        "trunc_type='post'\n",
        "padding_type='post'\n",
        "oov_tok = \"<OOV>\"\n",
        "training_size = 20000\n"
      ],
      "execution_count": 3,
      "outputs": []
    },
    {
      "cell_type": "code",
      "metadata": {
        "id": "BQVuQrZNkPn9",
        "outputId": "3bc6a5c6-9c09-46b3-c9e0-53269b32e12c",
        "colab": {
          "base_uri": "https://localhost:8080/",
          "height": 205
        }
      },
      "source": [
        "!wget --no-check-certificate \\\n",
        "    https://storage.googleapis.com/laurencemoroney-blog.appspot.com/sarcasm.json \\\n",
        "    -O /tmp/sarcasm.json\n"
      ],
      "execution_count": 4,
      "outputs": [
        {
          "output_type": "stream",
          "text": [
            "--2020-09-30 03:36:16--  https://storage.googleapis.com/laurencemoroney-blog.appspot.com/sarcasm.json\n",
            "Resolving storage.googleapis.com (storage.googleapis.com)... 74.125.195.128, 74.125.142.128, 74.125.20.128, ...\n",
            "Connecting to storage.googleapis.com (storage.googleapis.com)|74.125.195.128|:443... connected.\n",
            "HTTP request sent, awaiting response... 200 OK\n",
            "Length: 5643545 (5.4M) [application/json]\n",
            "Saving to: ‘/tmp/sarcasm.json’\n",
            "\n",
            "/tmp/sarcasm.json   100%[===================>]   5.38M  --.-KB/s    in 0.04s   \n",
            "\n",
            "2020-09-30 03:36:16 (152 MB/s) - ‘/tmp/sarcasm.json’ saved [5643545/5643545]\n",
            "\n"
          ],
          "name": "stdout"
        }
      ]
    },
    {
      "cell_type": "code",
      "metadata": {
        "id": "oaLaaqhNkUPd"
      },
      "source": [
        "with open(\"/tmp/sarcasm.json\", 'r') as f:\n",
        "    datastore = json.load(f)\n",
        "\n",
        "sentences = []\n",
        "labels = []\n",
        "\n",
        "for item in datastore:\n",
        "    sentences.append(item['headline'])\n",
        "    labels.append(item['is_sarcastic'])"
      ],
      "execution_count": 5,
      "outputs": []
    },
    {
      "cell_type": "code",
      "metadata": {
        "id": "S1sD-7v0kYWk"
      },
      "source": [
        "training_sentences = sentences[0:training_size]\n",
        "testing_sentences = sentences[training_size:]\n",
        "training_labels = labels[0:training_size]\n",
        "testing_labels = labels[training_size:]"
      ],
      "execution_count": 6,
      "outputs": []
    },
    {
      "cell_type": "code",
      "metadata": {
        "id": "3u8UB0MCkZ5N"
      },
      "source": [
        "tokenizer = Tokenizer(num_words=vocab_size, oov_token=oov_tok)\n",
        "tokenizer.fit_on_texts(training_sentences)\n",
        "\n",
        "word_index = tokenizer.word_index\n",
        "\n",
        "training_sequences = tokenizer.texts_to_sequences(training_sentences)\n",
        "training_padded = pad_sequences(training_sequences, maxlen=max_length, padding=padding_type, truncating=trunc_type)\n",
        "\n",
        "testing_sequences = tokenizer.texts_to_sequences(testing_sentences)\n",
        "testing_padded = pad_sequences(testing_sequences, maxlen=max_length, padding=padding_type, truncating=trunc_type)"
      ],
      "execution_count": 7,
      "outputs": []
    },
    {
      "cell_type": "code",
      "metadata": {
        "id": "GrAlWBKf99Ya"
      },
      "source": [
        "# Need this block to get it to work with TensorFlow 2.x\n",
        "import numpy as np\n",
        "training_padded = np.array(training_padded)\n",
        "training_labels = np.array(training_labels)\n",
        "testing_padded = np.array(testing_padded)\n",
        "testing_labels = np.array(testing_labels)"
      ],
      "execution_count": 8,
      "outputs": []
    },
    {
      "cell_type": "code",
      "metadata": {
        "id": "FufaT4vlkiDE"
      },
      "source": [
        "model = tf.keras.Sequential([\n",
        "    tf.keras.layers.Embedding(vocab_size, embedding_dim, input_length=max_length),\n",
        "    tf.keras.layers.GlobalAveragePooling1D(),\n",
        "    tf.keras.layers.Dense(24, activation='relu'),\n",
        "    tf.keras.layers.Dense(1, activation='sigmoid')\n",
        "])\n",
        "model.compile(loss='binary_crossentropy',optimizer='adam',metrics=['accuracy'])"
      ],
      "execution_count": 9,
      "outputs": []
    },
    {
      "cell_type": "code",
      "metadata": {
        "id": "XfDt1hmYkiys",
        "outputId": "033b8df8-4333-4fd3-8540-973095e5212e",
        "colab": {
          "base_uri": "https://localhost:8080/",
          "height": 291
        }
      },
      "source": [
        "model.summary()\n"
      ],
      "execution_count": 10,
      "outputs": [
        {
          "output_type": "stream",
          "text": [
            "Model: \"sequential\"\n",
            "_________________________________________________________________\n",
            "Layer (type)                 Output Shape              Param #   \n",
            "=================================================================\n",
            "embedding (Embedding)        (None, 100, 16)           160000    \n",
            "_________________________________________________________________\n",
            "global_average_pooling1d (Gl (None, 16)                0         \n",
            "_________________________________________________________________\n",
            "dense (Dense)                (None, 24)                408       \n",
            "_________________________________________________________________\n",
            "dense_1 (Dense)              (None, 1)                 25        \n",
            "=================================================================\n",
            "Total params: 160,433\n",
            "Trainable params: 160,433\n",
            "Non-trainable params: 0\n",
            "_________________________________________________________________\n"
          ],
          "name": "stdout"
        }
      ]
    },
    {
      "cell_type": "code",
      "metadata": {
        "id": "2DTKQFf1kkyc",
        "outputId": "7a0a89ad-c7da-4f3d-cac9-dccba3e79a21",
        "colab": {
          "base_uri": "https://localhost:8080/",
          "height": 1000
        }
      },
      "source": [
        "num_epochs = 30\n",
        "history = model.fit(training_padded, training_labels, epochs=num_epochs, validation_data=(testing_padded, testing_labels), verbose=2)"
      ],
      "execution_count": 11,
      "outputs": [
        {
          "output_type": "stream",
          "text": [
            "Epoch 1/30\n",
            "625/625 - 2s - loss: 0.6658 - accuracy: 0.5933 - val_loss: 0.5837 - val_accuracy: 0.7688\n",
            "Epoch 2/30\n",
            "625/625 - 2s - loss: 0.4329 - accuracy: 0.8296 - val_loss: 0.3845 - val_accuracy: 0.8363\n",
            "Epoch 3/30\n",
            "625/625 - 2s - loss: 0.3103 - accuracy: 0.8759 - val_loss: 0.3581 - val_accuracy: 0.8465\n",
            "Epoch 4/30\n",
            "625/625 - 2s - loss: 0.2593 - accuracy: 0.8968 - val_loss: 0.3449 - val_accuracy: 0.8533\n",
            "Epoch 5/30\n",
            "625/625 - 2s - loss: 0.2243 - accuracy: 0.9119 - val_loss: 0.3458 - val_accuracy: 0.8512\n",
            "Epoch 6/30\n",
            "625/625 - 2s - loss: 0.1965 - accuracy: 0.9244 - val_loss: 0.3519 - val_accuracy: 0.8560\n",
            "Epoch 7/30\n",
            "625/625 - 2s - loss: 0.1770 - accuracy: 0.9334 - val_loss: 0.3625 - val_accuracy: 0.8535\n",
            "Epoch 8/30\n",
            "625/625 - 2s - loss: 0.1569 - accuracy: 0.9419 - val_loss: 0.3747 - val_accuracy: 0.8533\n",
            "Epoch 9/30\n",
            "625/625 - 2s - loss: 0.1404 - accuracy: 0.9493 - val_loss: 0.3939 - val_accuracy: 0.8539\n",
            "Epoch 10/30\n",
            "625/625 - 2s - loss: 0.1277 - accuracy: 0.9548 - val_loss: 0.4224 - val_accuracy: 0.8442\n",
            "Epoch 11/30\n",
            "625/625 - 2s - loss: 0.1183 - accuracy: 0.9579 - val_loss: 0.4339 - val_accuracy: 0.8463\n",
            "Epoch 12/30\n",
            "625/625 - 2s - loss: 0.1058 - accuracy: 0.9642 - val_loss: 0.4548 - val_accuracy: 0.8465\n",
            "Epoch 13/30\n",
            "625/625 - 2s - loss: 0.0960 - accuracy: 0.9676 - val_loss: 0.4823 - val_accuracy: 0.8447\n",
            "Epoch 14/30\n",
            "625/625 - 2s - loss: 0.0895 - accuracy: 0.9695 - val_loss: 0.5086 - val_accuracy: 0.8419\n",
            "Epoch 15/30\n",
            "625/625 - 2s - loss: 0.0799 - accuracy: 0.9742 - val_loss: 0.5556 - val_accuracy: 0.8351\n",
            "Epoch 16/30\n",
            "625/625 - 2s - loss: 0.0762 - accuracy: 0.9742 - val_loss: 0.5672 - val_accuracy: 0.8378\n",
            "Epoch 17/30\n",
            "625/625 - 2s - loss: 0.0681 - accuracy: 0.9785 - val_loss: 0.6190 - val_accuracy: 0.8298\n",
            "Epoch 18/30\n",
            "625/625 - 2s - loss: 0.0626 - accuracy: 0.9801 - val_loss: 0.6322 - val_accuracy: 0.8331\n",
            "Epoch 19/30\n",
            "625/625 - 2s - loss: 0.0584 - accuracy: 0.9815 - val_loss: 0.6944 - val_accuracy: 0.8243\n",
            "Epoch 20/30\n",
            "625/625 - 2s - loss: 0.0520 - accuracy: 0.9839 - val_loss: 0.6939 - val_accuracy: 0.8283\n",
            "Epoch 21/30\n",
            "625/625 - 2s - loss: 0.0483 - accuracy: 0.9857 - val_loss: 0.7281 - val_accuracy: 0.8278\n",
            "Epoch 22/30\n",
            "625/625 - 3s - loss: 0.0442 - accuracy: 0.9874 - val_loss: 0.7705 - val_accuracy: 0.8216\n",
            "Epoch 23/30\n",
            "625/625 - 2s - loss: 0.0418 - accuracy: 0.9872 - val_loss: 0.8010 - val_accuracy: 0.8232\n",
            "Epoch 24/30\n",
            "625/625 - 3s - loss: 0.0397 - accuracy: 0.9868 - val_loss: 0.8330 - val_accuracy: 0.8228\n",
            "Epoch 25/30\n",
            "625/625 - 3s - loss: 0.0352 - accuracy: 0.9893 - val_loss: 0.8694 - val_accuracy: 0.8189\n",
            "Epoch 26/30\n",
            "625/625 - 2s - loss: 0.0322 - accuracy: 0.9903 - val_loss: 0.9071 - val_accuracy: 0.8190\n",
            "Epoch 27/30\n",
            "625/625 - 3s - loss: 0.0298 - accuracy: 0.9907 - val_loss: 0.9421 - val_accuracy: 0.8179\n",
            "Epoch 28/30\n",
            "625/625 - 2s - loss: 0.0278 - accuracy: 0.9918 - val_loss: 0.9830 - val_accuracy: 0.8171\n",
            "Epoch 29/30\n",
            "625/625 - 2s - loss: 0.0271 - accuracy: 0.9923 - val_loss: 1.0340 - val_accuracy: 0.8113\n",
            "Epoch 30/30\n",
            "625/625 - 2s - loss: 0.0237 - accuracy: 0.9934 - val_loss: 1.0599 - val_accuracy: 0.8137\n"
          ],
          "name": "stdout"
        }
      ]
    },
    {
      "cell_type": "code",
      "metadata": {
        "id": "2HYfBKXjkmU8",
        "outputId": "8cce9efd-20ae-449e-e45a-1317b61b6f68",
        "colab": {
          "base_uri": "https://localhost:8080/",
          "height": 540
        }
      },
      "source": [
        "import matplotlib.pyplot as plt\n",
        "\n",
        "\n",
        "def plot_graphs(history, string):\n",
        "  plt.plot(history.history[string])\n",
        "  plt.plot(history.history['val_'+string])\n",
        "  plt.xlabel(\"Epochs\")\n",
        "  plt.ylabel(string)\n",
        "  plt.legend([string, 'val_'+string])\n",
        "  plt.show()\n",
        "  \n",
        "plot_graphs(history, \"accuracy\")\n",
        "plot_graphs(history, \"loss\")"
      ],
      "execution_count": 12,
      "outputs": [
        {
          "output_type": "display_data",
          "data": {
            "image/png": "[encoded data removed]",
            "text/plain": [
              "<Figure size 432x288 with 1 Axes>"
            ]
          },
          "metadata": {
            "tags": [],
            "needs_background": "light"
          }
        },
        {
          "output_type": "display_data",
          "data": {
            "image/png": "[encoded data removed]",
            "text/plain": [
              "<Figure size 432x288 with 1 Axes>"
            ]
          },
          "metadata": {
            "tags": [],
            "needs_background": "light"
          }
        }
      ]
    },
    {
      "cell_type": "code",
      "metadata": {
        "id": "7SBdAZAenvzL",
        "outputId": "1b14d6f0-6cff-4447-853d-cd6eb4d697ff",
        "colab": {
          "base_uri": "https://localhost:8080/",
          "height": 88
        }
      },
      "source": [
        "reverse_word_index = dict([(value, key) for (key, value) in word_index.items()])\n",
        "\n",
        "def decode_sentence(text):\n",
        "    return ' '.join([reverse_word_index.get(i, '?') for i in text])\n",
        "\n",
        "print(decode_sentence(training_padded[2]))\n",
        "print(training_sentences[2])\n",
        "print(labels[2])"
      ],
      "execution_count": 15,
      "outputs": [
        {
          "output_type": "stream",
          "text": [
            "mom starting to fear son's web series closest thing she will have to grandchild ? ? ? ? ? ? ? ? ? ? ? ? ? ? ? ? ? ? ? ? ? ? ? ? ? ? ? ? ? ? ? ? ? ? ? ? ? ? ? ? ? ? ? ? ? ? ? ? ? ? ? ? ? ? ? ? ? ? ? ? ? ? ? ? ? ? ? ? ? ? ? ? ? ? ? ? ? ? ? ? ? ? ? ? ? ?\n",
            "mom starting to fear son's web series closest thing she will have to grandchild\n",
            "1\n"
          ],
          "name": "stdout"
        }
      ]
    },
    {
      "cell_type": "code",
      "metadata": {
        "id": "c9MqihtEkzQ9",
        "outputId": "5b83eca4-548a-4e22-8226-e382ecf86780",
        "colab": {
          "base_uri": "https://localhost:8080/",
          "height": 34
        }
      },
      "source": [
        "e = model.layers[0]\n",
        "weights = e.get_weights()[0]\n",
        "print(weights.shape) # shape: (vocab_size, embedding_dim)\n"
      ],
      "execution_count": 13,
      "outputs": [
        {
          "output_type": "stream",
          "text": [
            "(10000, 16)\n"
          ],
          "name": "stdout"
        }
      ]
    },
    {
      "cell_type": "code",
      "metadata": {
        "id": "LoBXVffknldU",
        "outputId": "62af792c-c8cb-4fb8-b29a-52f964405bc4",
        "colab": {
          "base_uri": "https://localhost:8080/",
          "height": 233
        }
      },
      "source": [
        "import io\n",
        "\n",
        "out_v = io.open('vecs.tsv', 'w', encoding='utf-8')\n",
        "out_m = io.open('meta.tsv', 'w', encoding='utf-8')\n",
        "for word_num in range(1, vocab_size):\n",
        "  word = reverse_word_index[word_num]\n",
        "  embeddings = weights[word_num]\n",
        "  out_m.write(word + \"\\n\")\n",
        "  out_v.write('\\t'.join([str(x) for x in embeddings]) + \"\\n\")\n",
        "out_v.close()\n",
        "out_m.close()"
      ],
      "execution_count": 14,
      "outputs": [
        {
          "output_type": "error",
          "ename": "NameError",
          "evalue": "ignored",
          "traceback": [
            "\u001b[0;31m---------------------------------------------------------------------------\u001b[0m",
            "\u001b[0;31mNameError\u001b[0m                                 Traceback (most recent call last)",
            "\u001b[0;32m<ipython-input-14-61dde92dd38a>\u001b[0m in \u001b[0;36m<module>\u001b[0;34m()\u001b[0m\n\u001b[1;32m      4\u001b[0m \u001b[0mout_m\u001b[0m \u001b[0;34m=\u001b[0m \u001b[0mio\u001b[0m\u001b[0;34m.\u001b[0m\u001b[0mopen\u001b[0m\u001b[0;34m(\u001b[0m\u001b[0;34m'meta.tsv'\u001b[0m\u001b[0;34m,\u001b[0m \u001b[0;34m'w'\u001b[0m\u001b[0;34m,\u001b[0m \u001b[0mencoding\u001b[0m\u001b[0;34m=\u001b[0m\u001b[0;34m'utf-8'\u001b[0m\u001b[0;34m)\u001b[0m\u001b[0;34m\u001b[0m\u001b[0;34m\u001b[0m\u001b[0m\n\u001b[1;32m      5\u001b[0m \u001b[0;32mfor\u001b[0m \u001b[0mword_num\u001b[0m \u001b[0;32min\u001b[0m \u001b[0mrange\u001b[0m\u001b[0;34m(\u001b[0m\u001b[0;36m1\u001b[0m\u001b[0;34m,\u001b[0m \u001b[0mvocab_size\u001b[0m\u001b[0;34m)\u001b[0m\u001b[0;34m:\u001b[0m\u001b[0;34m\u001b[0m\u001b[0;34m\u001b[0m\u001b[0m\n\u001b[0;32m----> 6\u001b[0;31m   \u001b[0mword\u001b[0m \u001b[0;34m=\u001b[0m \u001b[0mreverse_word_index\u001b[0m\u001b[0;34m[\u001b[0m\u001b[0mword_num\u001b[0m\u001b[0;34m]\u001b[0m\u001b[0;34m\u001b[0m\u001b[0;34m\u001b[0m\u001b[0m\n\u001b[0m\u001b[1;32m      7\u001b[0m   \u001b[0membeddings\u001b[0m \u001b[0;34m=\u001b[0m \u001b[0mweights\u001b[0m\u001b[0;34m[\u001b[0m\u001b[0mword_num\u001b[0m\u001b[0;34m]\u001b[0m\u001b[0;34m\u001b[0m\u001b[0;34m\u001b[0m\u001b[0m\n\u001b[1;32m      8\u001b[0m   \u001b[0mout_m\u001b[0m\u001b[0;34m.\u001b[0m\u001b[0mwrite\u001b[0m\u001b[0;34m(\u001b[0m\u001b[0mword\u001b[0m \u001b[0;34m+\u001b[0m \u001b[0;34m\"\\n\"\u001b[0m\u001b[0;34m)\u001b[0m\u001b[0;34m\u001b[0m\u001b[0;34m\u001b[0m\u001b[0m\n",
            "\u001b[0;31mNameError\u001b[0m: name 'reverse_word_index' is not defined"
          ]
        }
      ]
    },
    {
      "cell_type": "code",
      "metadata": {
        "id": "U4eZ5HtVnnEE"
      },
      "source": [
        "try:\n",
        "  from google.colab import files\n",
        "except ImportError:\n",
        "  pass\n",
        "else:\n",
        "  files.download('vecs.tsv')\n",
        "  files.download('meta.tsv')"
      ],
      "execution_count": null,
      "outputs": []
    },
    {
      "cell_type": "code",
      "metadata": {
        "id": "cG8-ArY-qDcz",
        "outputId": "94afceff-33e9-4e91-e8a6-61c34d6c8752",
        "colab": {
          "base_uri": "https://localhost:8080/",
          "height": 51
        }
      },
      "source": [
        "sentence = [\"granny starting to fear spiders in the garden might be real\", \"game of thrones season finale showing this sunday night\"]\n",
        "sequences = tokenizer.texts_to_sequences(sentence)\n",
        "padded = pad_sequences(sequences, maxlen=max_length, padding=padding_type, truncating=trunc_type)\n",
        "print(model.predict(padded))"
      ],
      "execution_count": null,
      "outputs": [
        {
          "output_type": "stream",
          "text": [
            "[[7.4758905e-01]\n",
            " [3.1674583e-05]]\n"
          ],
          "name": "stdout"
        }
      ]
    }
  ]
}